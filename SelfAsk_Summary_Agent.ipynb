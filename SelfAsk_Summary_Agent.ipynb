{
 "cells": [
  {
   "cell_type": "code",
   "execution_count": 1,
   "metadata": {},
   "outputs": [],
   "source": [
    "import os\n",
    "import selfask_routines # This script (not in the repository) contains all functions used by the Self Ask pipeline\n",
    "\n",
    "from langchain.prompts import PromptTemplate\n",
    "from langchain_openai import ChatOpenAI\n",
    "from langchain_core.documents import Document\n",
    "\n",
    "\n",
    "key_file='../LM_Tests/openai_api_key.txt'\n",
    "with open(key_file, 'r') as file:\n",
    "    openai_api_key=file.read()\n",
    "os.environ[\"OPENAI_API_KEY\"] = openai_api_key"
   ]
  },
  {
   "cell_type": "markdown",
   "metadata": {},
   "source": [
    "Make text files with timestamps from transcript of Youtube video(s), splitted into langchain Documents of 10 sentences, each with an associated timestamp. Both timestamp and file name (\"source\") will be used as Document metadata."
   ]
  },
  {
   "cell_type": "code",
   "execution_count": 2,
   "metadata": {},
   "outputs": [
    {
     "name": "stdout",
     "output_type": "stream",
     "text": [
      "page_content=' Let's start this video by throwing a\n",
      "mouse, a dog, and an elephant from a skyscraper onto something soft. Let's say, a stack of mattresses. The mouse lands and is stunned for a moment, before it shakes itself off, and walks away pretty annoyed, because that's a very rude thing to do. The dog breaks all of its bones and dies in an unspectacular way, and the elephant explodes into a red puddle of bones and insides and has no chance to\n",
      "be annoyed. Why does the mouse survive, but the elephant and dog don't? The answer is size. Size is the most underappreciated \n",
      "regulator of living things. Size determines everything about our biology, how we are built, how we\n",
      "experience the world, how we live and die. It does so because the physical laws are\n",
      "different for different sized animals.' metadata={'source': 'aggregated_f7KSfjv4Oq0.txt', 'timestamp': '[00:00:00]'}\n"
     ]
    }
   ],
   "source": [
    "texts=[ # Youtube video transcript with timestamps\n",
    "    'aggregated_f7KSfjv4Oq0.txt', # What Happens If We Throw an Elephant From a Skyscraper? Life & Size 1\n",
    "    'aggregated_QImCld9YubE.txt', # Why are you alive - Life, Energy and ATP\n",
    "    'aggregated_QOCaacO8wus.txt', # What is life? Is death real?\n",
    "    'aggregated_TYPFenJQciw.txt', # The Most Complex Language in the World\n",
    "    ] \n",
    "\n",
    "splits=selfask_routines.make_splits(texts) # Custom text splitting function\n",
    "\n",
    "print(splits[0])"
   ]
  },
  {
   "cell_type": "markdown",
   "metadata": {},
   "source": [
    "Some examples are constructed upfront to be leverage for few shot prompting."
   ]
  },
  {
   "cell_type": "code",
   "execution_count": 3,
   "metadata": {},
   "outputs": [],
   "source": [
    "import fewshots_data # Thi script (not in the repository) contains Self Ask examples, to be used for few shot prompting.\n",
    "\n",
    "# Make dictionary of few shot examples\n",
    "few_shot_dict=fewshots_data.few_shot_data()\n",
    "few_shot_list=[]\n",
    "for key in few_shot_dict.keys():\n",
    "    few_shot_list+=few_shot_dict[key]\n",
    "\n",
    "if len(few_shot_list)==0:\n",
    "    print(f\"ERROR: {len(few_shot_list)=}\")"
   ]
  },
  {
   "cell_type": "markdown",
   "metadata": {},
   "source": [
    "Information relative to the documents can also be useful, and is constructed manually and uploaded as separated Document. Documents containing summaries are also included. These can be both of parts of offline langchain pipelines. They will always be retrieved at every stage."
   ]
  },
  {
   "cell_type": "code",
   "execution_count": 4,
   "metadata": {},
   "outputs": [],
   "source": [
    "\n",
    "infos=\"\"\"Number of videos: 4\n",
    "Titles: \"What is life?\", \"Life & Size 1\", \"The Size of Life 2\", \"Why are you alive - Life, Energy and ATP\", \"The Most Complex Language in the World\"\n",
    "\"\"\" #AC this can stay! There will be metadata simply not inferrable from the text itself, for example if the name of the speaker never appears in what they say themselves in the transcript!\n",
    "info_doc=Document(page_content=infos,metadata={'source':'documents_info','timestamp':'N/A'})\n",
    "\n",
    "summ_docs=selfask_routines.make_summ_docs()\n"
   ]
  },
  {
   "cell_type": "markdown",
   "metadata": {},
   "source": [
    "The first question demands an intermediate information retrieval, thus will require the usage of Self Ask."
   ]
  },
  {
   "cell_type": "code",
   "execution_count": 5,
   "metadata": {},
   "outputs": [
    {
     "name": "stdout",
     "output_type": "stream",
     "text": [
      "Retrieving most relevant few-shot examplary self ask threads with question...\n",
      "\u001b[35mRETRIEVED THESE SIMILAR QUESTIONS FROM THE FEW SHOT DATABASE:\u001b[0m\n",
      "\u001b[35m- What food does the creature that lives here eat?.\u001b[0m\n",
      "\u001b[35m- Tell me everything about units of measure.\u001b[0m\n",
      "\u001b[35m- What sport does the guy that dress in red play?.\u001b[0m\n"
     ]
    },
    {
     "name": "stderr",
     "output_type": "stream",
     "text": [
      "No relevant docs were retrieved using the relevance score threshold 1.0\n",
      "No relevant docs were retrieved using the relevance score threshold 0.9\n",
      "No relevant docs were retrieved using the relevance score threshold 0.8\n",
      "No relevant docs were retrieved using the relevance score threshold 0.7000000000000001\n"
     ]
    },
    {
     "name": "stdout",
     "output_type": "stream",
     "text": [
      "Retrieving most relevant few-shot examplary self ask threads with latest follow up question...\n",
      "\u001b[35mRETRIEVED THESE SIMILAR QUESTIONS FROM THE FEW SHOT DATABASE:\u001b[0m\n",
      "\u001b[35m- What food does the creature that lives here eat?.\u001b[0m\n",
      "\u001b[35m- What sport does the guy that dress in red play?.\u001b[0m\n",
      "\u001b[35m- Are both the directors of Jaws and Casino Royale from the same country? \u001b[0m\n",
      "\n",
      "+ --- --- --- Self Ask cycle: 0 \n",
      "\n",
      "\u001b[34mFOLLOW UP QUESTION: What animal is being referred to that deals poorly with water?\u001b[0m\n",
      "Custom retrieval of documents with latest follow up question...\n"
     ]
    },
    {
     "name": "stderr",
     "output_type": "stream",
     "text": [
      "No relevant docs were retrieved using the relevance score threshold 1.0\n",
      "No relevant docs were retrieved using the relevance score threshold 0.9\n",
      "No relevant docs were retrieved using the relevance score threshold 0.8\n",
      "No relevant docs were retrieved using the relevance score threshold 0.7000000000000001\n",
      "No relevant docs were retrieved using the relevance score threshold 0.6000000000000001\n"
     ]
    },
    {
     "name": "stdout",
     "output_type": "stream",
     "text": [
      "Augmenting with summary documents...\n",
      "Retrieved 16 documents.\n",
      "\u001b[35mRETRIEVED DOCUMENTS WITH FOLLOW UP QUESTION:\n",
      "{'source': 'aggregated_f7KSfjv4Oq0.txt', 'timestamp': '[00:02:56]'}\n",
      "{'source': 'aggregated_f7KSfjv4Oq0.txt', 'timestamp': '[00:04:22]'}\n",
      "{'source': 'aggregated_f7KSfjv4Oq0.txt', 'timestamp': '[00:02:06]'}\n",
      "{'source': 'aggregated_f7KSfjv4Oq0.txt', 'timestamp': '[00:05:02]'}\n",
      "{'source': 'aggregated_f7KSfjv4Oq0.txt', 'timestamp': '[00:03:37]'}\n",
      "{'source': 'aggregated_f7KSfjv4Oq0.txt', 'timestamp': '[00:00:00]'}\n",
      "{'source': 'aggregated_f7KSfjv4Oq0.txt', 'timestamp': '[00:00:13]'}\n",
      "{'source': 'aggregated_f7KSfjv4Oq0.txt', 'timestamp': '[00:01:19]'}\n",
      "{'source': 'aggregated_QImCld9YubE.txt', 'timestamp': '[00:03:08]'}\n",
      "{'source': 'aggregated_QImCld9YubE.txt', 'timestamp': '[00:05:11]'}\n",
      "{'source': 'documents_info', 'timestamp': 'N/A'}\n",
      "{'source': 'summary_f7KSfjv4Oq0.txt', 'timestamp': 'N/A'}\n",
      "{'source': 'summary_QImCld9YubE.txt', 'timestamp': 'N/A'}\n",
      "{'source': 'summary_TYPFenJQciw.txt', 'timestamp': 'N/A'}\n",
      "{'source': 'summary_MUWUHf-rzks.txt', 'timestamp': 'N/A'}\n",
      "{'source': 'summary_QOCaacO8wus.txt', 'timestamp': 'N/A'}\u001b[0m\n",
      "Augmenting with documents retrieved with initial question...\n",
      "Generating few shot prompt...\n",
      "Using few shot prompt to get intermediate/final answer through direct quoting of the original text...\n",
      "\u001b[34mINTERMEDIATE ANSWER: The animal being referred to that deals poorly with water is an insect. The text states, \"Like surface tension which turns water into a potentially deadly substance for insects.\" | \"If we were to shrink you to the size of an ant and you touch water it would be like you were reaching into glue.\"\u001b[0m\n",
      "The identified follow up question is: How does gravity affect insects? \n",
      "Retrieving most relevant few-shot examplary self ask threads with latest follow up question...\n",
      "\u001b[35mRETRIEVED THESE SIMILAR QUESTIONS FROM THE FEW SHOT DATABASE:\u001b[0m\n",
      "\u001b[35m- What food does the creature that lives here eat?.\u001b[0m\n",
      "\u001b[35m- Tell me everything about units of measure.\u001b[0m\n",
      "\u001b[35m- Which topics generated the most questions?\u001b[0m\n",
      "\n",
      "+ --- --- --- Self Ask cycle: 1 \n",
      "\n",
      "\u001b[34mFOLLOW UP QUESTION: How does gravity affect insects? \u001b[0m\n",
      "Custom retrieval of documents with latest follow up question...\n"
     ]
    },
    {
     "name": "stderr",
     "output_type": "stream",
     "text": [
      "No relevant docs were retrieved using the relevance score threshold 1.0\n",
      "No relevant docs were retrieved using the relevance score threshold 0.9\n",
      "No relevant docs were retrieved using the relevance score threshold 0.8\n"
     ]
    },
    {
     "name": "stdout",
     "output_type": "stream",
     "text": [
      "Augmenting with summary documents...\n",
      "Retrieved 13 documents.\n",
      "\u001b[35mRETRIEVED DOCUMENTS WITH FOLLOW UP QUESTION:\n",
      "{'source': 'aggregated_f7KSfjv4Oq0.txt', 'timestamp': '[00:02:06]'}\n",
      "{'source': 'aggregated_f7KSfjv4Oq0.txt', 'timestamp': '[00:02:56]'}\n",
      "{'source': 'aggregated_f7KSfjv4Oq0.txt', 'timestamp': '[00:04:22]'}\n",
      "{'source': 'aggregated_f7KSfjv4Oq0.txt', 'timestamp': '[00:03:37]'}\n",
      "{'source': 'aggregated_f7KSfjv4Oq0.txt', 'timestamp': '[00:05:02]'}\n",
      "{'source': 'aggregated_f7KSfjv4Oq0.txt', 'timestamp': '[00:00:13]'}\n",
      "{'source': 'aggregated_f7KSfjv4Oq0.txt', 'timestamp': '[00:01:19]'}\n",
      "{'source': 'documents_info', 'timestamp': 'N/A'}\n",
      "{'source': 'summary_f7KSfjv4Oq0.txt', 'timestamp': 'N/A'}\n",
      "{'source': 'summary_QImCld9YubE.txt', 'timestamp': 'N/A'}\n",
      "{'source': 'summary_TYPFenJQciw.txt', 'timestamp': 'N/A'}\n",
      "{'source': 'summary_MUWUHf-rzks.txt', 'timestamp': 'N/A'}\n",
      "{'source': 'summary_QOCaacO8wus.txt', 'timestamp': 'N/A'}\u001b[0m\n",
      "Augmenting with documents retrieved with initial question...\n",
      "Generating few shot prompt...\n",
      "Using few shot prompt to get intermediate/final answer through direct quoting of the original text...\n",
      "\u001b[34mINTERMEDIATE ANSWER: \"the smaller you are the less you care about the effect of gravity.\" | \"small animals, like insects, have a high surface area-to-volume ratio, enabling them to withstand falls due to reduced impact force.\" | \"For an insect the force of water surface tension is so strong that getting wet is a question of life and death.\" | \"insects evolved to be water repellent.\" | \"Many insects are also covered with tiny hairs that serve as a barrier.\"\u001b[0m\n",
      "\u001b[32mFULL SELF-ASK PIPELINE:\n",
      "- Question: How would an animal that deals poorly with water deal with gravity?\n",
      "- Are follow up questions needed here: \n",
      "- Yes.\n",
      "- Follow up: What animal is being referred to that deals poorly with water?\n",
      "- Intermediate answer: The animal being referred to that deals poorly with water is an insect. The text states, \"Like surface tension which turns water into a potentially deadly substance for insects.\" | \"If we were to shrink you to the size of an ant and you touch water it would be like you were reaching into glue.\"\n",
      "- Are follow up questions needed here: \n",
      "- Yes.\n",
      "- Follow up: How does gravity affect insects? \n",
      "- Intermediate Answer: Gravity affects insects by making it difficult for them to move in water due to their small size and the surface tension of the water, which can create a sticky barrier. \n",
      "- Are follow up questions needed here: - No.\n",
      "- Intermediate answer: \"the smaller you are the less you care about the effect of gravity.\" | \"small animals, like insects, have a high surface area-to-volume ratio, enabling them to withstand falls due to reduced impact force.\" | \"For an insect the force of water surface tension is so strong that getting wet is a question of life and death.\" | \"insects evolved to be water repellent.\" | \"Many insects are also covered with tiny hairs that serve as a barrier.\"\n",
      "- Are follow up questions needed here: \n",
      "\u001b[0m\n",
      "\u001b[32m- No. - So the final answer is:\u001b[0m\n",
      "\u001b[31mFINAL ANSWER: An animal that deals poorly with water, like an insect, manages gravity by having a high surface area-to-volume ratio, which allows it to withstand falls with reduced impact force, and by evolving to be water-repellent, often having tiny hairs that create a barrier against water.\u001b[0m\n",
      "\u001b[35mDIRECT ANSWER WITH CUMULATIVE RETRIEVED DOCUMENTS:\n",
      "I don't know.\u001b[0m\n",
      "An animal that deals poorly with water, like an insect, manages gravity by having a high surface area-to-volume ratio, which allows it to withstand falls with reduced impact force, and by evolving to be water-repellent, often having tiny hairs that create a barrier against water.\n"
     ]
    }
   ],
   "source": [
    "question=\"How would an animal that deals poorly with water deal with gravity?\"\n",
    "final_answer, chat_history=selfask_routines.single_cycle(question, splits, few_shot_list, info_doc, summ_docs, model='gpt-4o-mini', chat_history=[], verbose=True)"
   ]
  },
  {
   "cell_type": "markdown",
   "metadata": {},
   "source": [
    "The second question will require the SelfAsk pipeline to acknowledge that summarization tool must be leveraged. This forces the retrieval to focus on the summary documents only."
   ]
  },
  {
   "cell_type": "code",
   "execution_count": 6,
   "metadata": {},
   "outputs": [
    {
     "name": "stdout",
     "output_type": "stream",
     "text": [
      "Retrieving most relevant few-shot examplary self ask threads with question...\n",
      "\u001b[35mRETRIEVED THESE SIMILAR QUESTIONS FROM THE FEW SHOT DATABASE:\u001b[0m\n",
      "\u001b[35m- Tell me everything about units of measure.\u001b[0m\n",
      "\u001b[35m- Tell me about the news about young people.\u001b[0m\n",
      "\u001b[35m- Tell me about vehicles produced in Star Wars.\u001b[0m\n"
     ]
    },
    {
     "name": "stderr",
     "output_type": "stream",
     "text": [
      "No relevant docs were retrieved using the relevance score threshold 1.0\n",
      "No relevant docs were retrieved using the relevance score threshold 0.9\n",
      "No relevant docs were retrieved using the relevance score threshold 0.8\n"
     ]
    },
    {
     "name": "stdout",
     "output_type": "stream",
     "text": [
      "Retrieving most relevant few-shot examplary self ask threads with latest follow up question...\n",
      "\u001b[35mRETRIEVED THESE SIMILAR QUESTIONS FROM THE FEW SHOT DATABASE:\u001b[0m\n",
      "\u001b[35m- Tell me everything about units of measure.\u001b[0m\n",
      "\u001b[35m- Tell me about the news about young people.\u001b[0m\n",
      "\u001b[35m- In how many talks did Jack ask a question?\u001b[0m\n",
      "\n",
      "+ --- --- --- Self Ask cycle: 0 \n",
      "\n",
      "\u001b[34mFOLLOW UP QUESTION: Report the full summary about ATP.\u001b[0m\n",
      "Custom retrieval of documents with latest follow up question...\n"
     ]
    },
    {
     "name": "stderr",
     "output_type": "stream",
     "text": [
      "No relevant docs were retrieved using the relevance score threshold 1.0\n",
      "No relevant docs were retrieved using the relevance score threshold 0.9\n",
      "No relevant docs were retrieved using the relevance score threshold 0.8\n",
      "No relevant docs were retrieved using the relevance score threshold 0.7000000000000001\n"
     ]
    },
    {
     "name": "stdout",
     "output_type": "stream",
     "text": [
      "Augmenting with summary documents...\n",
      "Retrieved 5 documents.\n",
      "\u001b[35mRETRIEVED DOCUMENTS WITH FOLLOW UP QUESTION:\n",
      "{'source': 'summary_QImCld9YubE.txt', 'timestamp': 'N/A'}\n",
      "{'source': 'summary_QOCaacO8wus.txt', 'timestamp': 'N/A'}\n",
      "{'source': 'summary_TYPFenJQciw.txt', 'timestamp': 'N/A'}\n",
      "{'source': 'summary_MUWUHf-rzks.txt', 'timestamp': 'N/A'}\n",
      "{'source': 'summary_f7KSfjv4Oq0.txt', 'timestamp': 'N/A'}\u001b[0m\n",
      "Augmenting with documents retrieved with initial question...\n",
      "Generating few shot prompt...\n",
      "Using few shot prompt to get intermediate/final answer through direct quoting of the original text...\n",
      "\u001b[34mINTERMEDIATE ANSWER: \"ATP is vital for various cellular functions and is universally utilized by all known life forms.\" | \"An ATP molecule is really good for shifting energy around quickly, but it's terrible for storage, since it has only one percent of a glucose molecule's energy at three times its mass.\" | \"It's crucial for almost every process. Plants, fungi, bacteria, and animals need to survive. Without ATP, no life on Earth.\" | \"Mitochondria basically reverse photosynthesis, in a similarly complex process. They take sugar molecules that we got from eating other living things, combust them with oxygen and precursor molecules, to make new, energy-rich ATP molecules.\" | \"This first division of labor, meant the new cell had way more energy available than any cell before, which meant more possibilities for evolution to enable more complex cells.\" | \"Today, you are a pile of trillions of cells, each filled with dozens, if not hundreds of little machines that provides you with usable energy to stay alive.\" | \"If this process is interrupted, even for a few minutes, you die.\"\u001b[0m\n",
      "\u001b[32mFULL SELF-ASK PIPELINE:\n",
      "- Question: Tell me everything about ATP.\n",
      "- Are follow up questions needed here: \n",
      "- Yes.\n",
      "- Follow up: Report the full summary about ATP.\n",
      "- Intermediate answer: \"ATP is vital for various cellular functions and is universally utilized by all known life forms.\" | \"An ATP molecule is really good for shifting energy around quickly, but it's terrible for storage, since it has only one percent of a glucose molecule's energy at three times its mass.\" | \"It's crucial for almost every process. Plants, fungi, bacteria, and animals need to survive. Without ATP, no life on Earth.\" | \"Mitochondria basically reverse photosynthesis, in a similarly complex process. They take sugar molecules that we got from eating other living things, combust them with oxygen and precursor molecules, to make new, energy-rich ATP molecules.\" | \"This first division of labor, meant the new cell had way more energy available than any cell before, which meant more possibilities for evolution to enable more complex cells.\" | \"Today, you are a pile of trillions of cells, each filled with dozens, if not hundreds of little machines that provides you with usable energy to stay alive.\" | \"If this process is interrupted, even for a few minutes, you die.\"\n",
      "- Are follow up questions needed here: \n",
      "\u001b[0m\n",
      "\u001b[32m- No. - So the final answer is:\u001b[0m\n",
      "\u001b[31mFINAL ANSWER: ATP is vital for various cellular functions and is universally utilized by all known life forms. It is effective for quickly shifting energy but poor for storage, holding only one percent of a glucose molecule's energy at three times its mass. ATP is crucial for almost every process necessary for the survival of plants, fungi, bacteria, and animals. Without ATP, no life on Earth exists. Mitochondria reverse photosynthesis by combusting sugar molecules with oxygen to create new, energy-rich ATP molecules. This division of labor allows cells to have more energy available, enabling more complex evolution. Today, humans are composed of trillions of cells, each containing numerous machines that provide usable energy for survival. If ATP production is interrupted, even for a few minutes, it can lead to death.\u001b[0m\n",
      "\u001b[35mDIRECT ANSWER WITH CUMULATIVE RETRIEVED DOCUMENTS:\n",
      "\"Cells operate through complex processes involving millions of proteins and molecules, relying on energy from chemical reactions, primarily in the form of Adenosine Triphosphate (ATP).\" | \"ATP is vital for various cellular functions and is universally utilized by all known life forms.\" | \"The evolution of more complex life forms resulted from the merging of cells, with mitochondria playing a significant role in ATP production through sugar combustion.\" | \"The human body produces an immense quantity of ATP daily, but storing it is inefficient, necessitating continuous production and consumption.\" | \"The origins of life trace back billions of years to the formation of the first self-sustaining cells, leading to the diverse array of life we see today.\"\u001b[0m\n",
      "ATP is vital for various cellular functions and is universally utilized by all known life forms. It is effective for quickly shifting energy but poor for storage, holding only one percent of a glucose molecule's energy at three times its mass. ATP is crucial for almost every process necessary for the survival of plants, fungi, bacteria, and animals. Without ATP, no life on Earth exists. Mitochondria reverse photosynthesis by combusting sugar molecules with oxygen to create new, energy-rich ATP molecules. This division of labor allows cells to have more energy available, enabling more complex evolution. Today, humans are composed of trillions of cells, each containing numerous machines that provide usable energy for survival. If ATP production is interrupted, even for a few minutes, it can lead to death.\n"
     ]
    }
   ],
   "source": [
    "question=\"Tell me everything about ATP.\"\n",
    "final_answer, chat_history=selfask_routines.single_cycle(question, splits, few_shot_list, info_doc, summ_docs, model='gpt-4o-mini', chat_history=[], verbose=True)"
   ]
  },
  {
   "cell_type": "markdown",
   "metadata": {},
   "source": [
    "Ultimately, the quality of the reasoning provided by this Self Ask pipeline resides in the retrieval of appropriate examples to leverage for the few shot prompt. A larger dataset, as well as an optimal retrieval method from it, are the ultimate key for a successful Q&A. However, the intrinsic capability of improving the pipeline through augmenting the few shot dataset makes it very flexible for multiple use cases."
   ]
  },
  {
   "cell_type": "markdown",
   "metadata": {},
   "source": []
  }
 ],
 "metadata": {
  "kernelspec": {
   "display_name": "Python 3",
   "language": "python",
   "name": "python3"
  },
  "language_info": {
   "codemirror_mode": {
    "name": "ipython",
    "version": 3
   },
   "file_extension": ".py",
   "mimetype": "text/x-python",
   "name": "python",
   "nbconvert_exporter": "python",
   "pygments_lexer": "ipython3",
   "version": "3.10.2"
  }
 },
 "nbformat": 4,
 "nbformat_minor": 2
}
